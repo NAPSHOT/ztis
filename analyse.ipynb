{
 "cells": [
  {
   "cell_type": "code",
   "execution_count": 1,
   "metadata": {},
   "outputs": [],
   "source": [
    "from sqlalchemy import create_engine\n",
    "from sqlalchemy.orm import sessionmaker\n",
    "from sqlalchemy.schema import Table, DropTable\n",
    "import pandas as pd\n",
    "import os.path"
   ]
  },
  {
   "cell_type": "code",
   "execution_count": 2,
   "metadata": {},
   "outputs": [],
   "source": [
    "%matplotlib inline"
   ]
  },
  {
   "cell_type": "code",
   "execution_count": 3,
   "metadata": {},
   "outputs": [],
   "source": [
    "Session = sessionmaker()\n",
    "engine = create_engine('sqlite:///ztis.db')"
   ]
  },
  {
   "cell_type": "code",
   "execution_count": 6,
   "metadata": {},
   "outputs": [
    {
     "name": "stdout",
     "output_type": "stream",
     "text": [
      "(499, 5)\n"
     ]
    }
   ],
   "source": [
    "feeds = pd.read_sql_query('SELECT * FROM ztis', engine)\n",
    "print(feeds.shape)"
   ]
  },
  {
   "cell_type": "code",
   "execution_count": 14,
   "metadata": {},
   "outputs": [
    {
     "data": {
      "text/html": [
       "<div>\n",
       "<style scoped>\n",
       "    .dataframe tbody tr th:only-of-type {\n",
       "        vertical-align: middle;\n",
       "    }\n",
       "\n",
       "    .dataframe tbody tr th {\n",
       "        vertical-align: top;\n",
       "    }\n",
       "\n",
       "    .dataframe thead th {\n",
       "        text-align: right;\n",
       "    }\n",
       "</style>\n",
       "<table border=\"1\" class=\"dataframe\">\n",
       "  <thead>\n",
       "    <tr style=\"text-align: right;\">\n",
       "      <th></th>\n",
       "      <th>source</th>\n",
       "      <th>title</th>\n",
       "      <th>summary</th>\n",
       "      <th>publication_date</th>\n",
       "      <th>author</th>\n",
       "    </tr>\n",
       "  </thead>\n",
       "  <tbody>\n",
       "    <tr>\n",
       "      <th>0</th>\n",
       "      <td>BBC\\n</td>\n",
       "      <td>Labour pledges £10 minimum wage for under-18s</td>\n",
       "      <td>Jeremy Corbyn unveils plans for under-18s to b...</td>\n",
       "      <td>Sat, 11 May 2019 14:27:26 GMT</td>\n",
       "      <td>default</td>\n",
       "    </tr>\n",
       "    <tr>\n",
       "      <th>1</th>\n",
       "      <td>BBC\\n</td>\n",
       "      <td>Theresa May could set exit date this week - Si...</td>\n",
       "      <td>Senior Tory Sir Graham Brady says he expects t...</td>\n",
       "      <td>Sat, 11 May 2019 15:06:51 GMT</td>\n",
       "      <td>default</td>\n",
       "    </tr>\n",
       "    <tr>\n",
       "      <th>2</th>\n",
       "      <td>BBC\\n</td>\n",
       "      <td>Sajid Javid: I get abuse because of my colour</td>\n",
       "      <td>Home secretary tells BBC he is criticised for ...</td>\n",
       "      <td>Fri, 10 May 2019 15:45:21 GMT</td>\n",
       "      <td>default</td>\n",
       "    </tr>\n",
       "    <tr>\n",
       "      <th>3</th>\n",
       "      <td>BBC\\n</td>\n",
       "      <td>Stormont stalemate: Coveney hopes for progress...</td>\n",
       "      <td>Simon Coveney says two governments will do som...</td>\n",
       "      <td>Fri, 10 May 2019 10:48:30 GMT</td>\n",
       "      <td>default</td>\n",
       "    </tr>\n",
       "    <tr>\n",
       "      <th>4</th>\n",
       "      <td>BBC\\n</td>\n",
       "      <td>Guy Verhofstadt: I don't know if Brexit will h...</td>\n",
       "      <td>The European Parliament's liberal leader says ...</td>\n",
       "      <td>Fri, 10 May 2019 17:08:04 GMT</td>\n",
       "      <td>default</td>\n",
       "    </tr>\n",
       "  </tbody>\n",
       "</table>\n",
       "</div>"
      ],
      "text/plain": [
       "  source                                              title  \\\n",
       "0  BBC\\n      Labour pledges £10 minimum wage for under-18s   \n",
       "1  BBC\\n  Theresa May could set exit date this week - Si...   \n",
       "2  BBC\\n      Sajid Javid: I get abuse because of my colour   \n",
       "3  BBC\\n  Stormont stalemate: Coveney hopes for progress...   \n",
       "4  BBC\\n  Guy Verhofstadt: I don't know if Brexit will h...   \n",
       "\n",
       "                                             summary  \\\n",
       "0  Jeremy Corbyn unveils plans for under-18s to b...   \n",
       "1  Senior Tory Sir Graham Brady says he expects t...   \n",
       "2  Home secretary tells BBC he is criticised for ...   \n",
       "3  Simon Coveney says two governments will do som...   \n",
       "4  The European Parliament's liberal leader says ...   \n",
       "\n",
       "                publication_date   author  \n",
       "0  Sat, 11 May 2019 14:27:26 GMT  default  \n",
       "1  Sat, 11 May 2019 15:06:51 GMT  default  \n",
       "2  Fri, 10 May 2019 15:45:21 GMT  default  \n",
       "3  Fri, 10 May 2019 10:48:30 GMT  default  \n",
       "4  Fri, 10 May 2019 17:08:04 GMT  default  "
      ]
     },
     "execution_count": 14,
     "metadata": {},
     "output_type": "execute_result"
    }
   ],
   "source": [
    "feeds[:5]"
   ]
  },
  {
   "cell_type": "code",
   "execution_count": null,
   "metadata": {},
   "outputs": [],
   "source": []
  }
 ],
 "metadata": {
  "kernelspec": {
   "display_name": "Python 3",
   "language": "python",
   "name": "python3"
  },
  "language_info": {
   "codemirror_mode": {
    "name": "ipython",
    "version": 3
   },
   "file_extension": ".py",
   "mimetype": "text/x-python",
   "name": "python",
   "nbconvert_exporter": "python",
   "pygments_lexer": "ipython3",
   "version": "3.7.0"
  }
 },
 "nbformat": 4,
 "nbformat_minor": 2
}
