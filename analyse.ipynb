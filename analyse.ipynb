{
 "cells": [
  {
   "cell_type": "code",
   "execution_count": 1,
   "metadata": {},
   "outputs": [],
   "source": [
    "##USEFUL LINKS:\n",
    "#https://pypi.org/project/rake-nltk/ -> lib for RAKE short for Rapid Automatic Keyword Extraction algorithm"
   ]
  },
  {
   "cell_type": "code",
   "execution_count": 20,
   "metadata": {},
   "outputs": [
    {
     "name": "stdout",
     "output_type": "stream",
     "text": [
      "Requirement already satisfied: nltk in c:\\users\\przefur\\appdata\\local\\programs\\python\\python36\\lib\\site-packages (3.4.1)\n",
      "Requirement already satisfied: six in c:\\users\\przefur\\appdata\\local\\programs\\python\\python36\\lib\\site-packages (from nltk) (1.12.0)\n",
      "Requirement already satisfied: rake-nltk in c:\\users\\przefur\\appdata\\local\\programs\\python\\python36\\lib\\site-packages (1.0.4)\n",
      "Requirement already satisfied: nltk in c:\\users\\przefur\\appdata\\local\\programs\\python\\python36\\lib\\site-packages (from rake-nltk) (3.4.1)\n",
      "Requirement already satisfied: six in c:\\users\\przefur\\appdata\\local\\programs\\python\\python36\\lib\\site-packages (from nltk->rake-nltk) (1.12.0)\n",
      "Requirement already satisfied: sqlalchemy in c:\\users\\przefur\\appdata\\local\\programs\\python\\python36\\lib\\site-packages (1.3.3)\n",
      "Collecting pandas\n",
      "  Downloading https://files.pythonhosted.org/packages/d0/4e/9db3468e504ac9aeadb37eb32bcf0a74d063d24ad1471104bd8a7ba20c97/pandas-0.24.2-cp36-cp36m-win_amd64.whl (8.8MB)\n",
      "Requirement already satisfied: python-dateutil>=2.5.0 in c:\\users\\przefur\\appdata\\local\\programs\\python\\python36\\lib\\site-packages (from pandas) (2.8.0)\n",
      "Collecting pytz>=2011k (from pandas)\n",
      "  Downloading https://files.pythonhosted.org/packages/3d/73/fe30c2daaaa0713420d0382b16fbb761409f532c56bdcc514bf7b6262bb6/pytz-2019.1-py2.py3-none-any.whl (510kB)\n",
      "Requirement already satisfied: numpy>=1.12.0 in c:\\users\\przefur\\appdata\\local\\programs\\python\\python36\\lib\\site-packages (from pandas) (1.16.1)\n",
      "Requirement already satisfied: six>=1.5 in c:\\users\\przefur\\appdata\\local\\programs\\python\\python36\\lib\\site-packages (from python-dateutil>=2.5.0->pandas) (1.12.0)\n",
      "Installing collected packages: pytz, pandas\n",
      "Successfully installed pandas-0.24.2 pytz-2019.1\n"
     ]
    }
   ],
   "source": [
    "import sys\n",
    "!{sys.executable} -m pip install nltk\n",
    "!{sys.executable} -m pip install rake-nltk\n",
    "!{sys.executable} -m pip install sqlalchemy\n",
    "!{sys.executable} -m pip install pandas"
   ]
  },
  {
   "cell_type": "code",
   "execution_count": 21,
   "metadata": {},
   "outputs": [
    {
     "name": "stderr",
     "output_type": "stream",
     "text": [
      "[nltk_data] Downloading package stopwords to\n",
      "[nltk_data]     C:\\Users\\Przefur\\AppData\\Roaming\\nltk_data...\n",
      "[nltk_data]   Package stopwords is already up-to-date!\n"
     ]
    },
    {
     "data": {
      "text/plain": [
       "True"
      ]
     },
     "execution_count": 21,
     "metadata": {},
     "output_type": "execute_result"
    }
   ],
   "source": [
    "import nltk\n",
    "nltk.download('stopwords')"
   ]
  },
  {
   "cell_type": "code",
   "execution_count": 30,
   "metadata": {},
   "outputs": [],
   "source": [
    "import sqlalchemy\n",
    "from sqlalchemy import create_engine\n",
    "from sqlalchemy.orm import sessionmaker\n",
    "from sqlalchemy.schema import Table, DropTable\n",
    "from rake_nltk import Rake, Metric\n",
    "import pandas as pd\n",
    "import os.path"
   ]
  },
  {
   "cell_type": "code",
   "execution_count": 31,
   "metadata": {},
   "outputs": [],
   "source": [
    "%matplotlib inline"
   ]
  },
  {
   "cell_type": "code",
   "execution_count": 32,
   "metadata": {},
   "outputs": [],
   "source": [
    "Session = sessionmaker()\n",
    "engine = create_engine('sqlite:///ztis.db')"
   ]
  },
  {
   "cell_type": "code",
   "execution_count": 33,
   "metadata": {},
   "outputs": [
    {
     "name": "stdout",
     "output_type": "stream",
     "text": [
      "(3527, 6)\n"
     ]
    }
   ],
   "source": [
    "feeds = pd.read_sql_query('SELECT * FROM ztis', engine)\n",
    "print(feeds.shape)"
   ]
  },
  {
   "cell_type": "code",
   "execution_count": 34,
   "metadata": {},
   "outputs": [
    {
     "data": {
      "text/html": [
       "<div>\n",
       "<style scoped>\n",
       "    .dataframe tbody tr th:only-of-type {\n",
       "        vertical-align: middle;\n",
       "    }\n",
       "\n",
       "    .dataframe tbody tr th {\n",
       "        vertical-align: top;\n",
       "    }\n",
       "\n",
       "    .dataframe thead th {\n",
       "        text-align: right;\n",
       "    }\n",
       "</style>\n",
       "<table border=\"1\" class=\"dataframe\">\n",
       "  <thead>\n",
       "    <tr style=\"text-align: right;\">\n",
       "      <th></th>\n",
       "      <th>id</th>\n",
       "      <th>source</th>\n",
       "      <th>title</th>\n",
       "      <th>summary</th>\n",
       "      <th>publication_date</th>\n",
       "      <th>author</th>\n",
       "    </tr>\n",
       "  </thead>\n",
       "  <tbody>\n",
       "    <tr>\n",
       "      <th>0</th>\n",
       "      <td>1</td>\n",
       "      <td>BBC\\n</td>\n",
       "      <td>Labour pledges £10 minimum wage for under-18s</td>\n",
       "      <td>Jeremy Corbyn unveils plans for under-18s to b...</td>\n",
       "      <td>Sat, 11 May 2019 14:27:26 GMT</td>\n",
       "      <td>default</td>\n",
       "    </tr>\n",
       "    <tr>\n",
       "      <th>1</th>\n",
       "      <td>2</td>\n",
       "      <td>BBC\\n</td>\n",
       "      <td>Brexit: Gavin Williamson attacks Theresa May's...</td>\n",
       "      <td>The recently sacked defence secretary says neg...</td>\n",
       "      <td>Sat, 11 May 2019 23:04:45 GMT</td>\n",
       "      <td>default</td>\n",
       "    </tr>\n",
       "    <tr>\n",
       "      <th>2</th>\n",
       "      <td>3</td>\n",
       "      <td>BBC\\n</td>\n",
       "      <td>Theresa May could set exit date this week - Si...</td>\n",
       "      <td>Senior Tory Sir Graham Brady says he expects t...</td>\n",
       "      <td>Sat, 11 May 2019 15:06:51 GMT</td>\n",
       "      <td>default</td>\n",
       "    </tr>\n",
       "    <tr>\n",
       "      <th>3</th>\n",
       "      <td>4</td>\n",
       "      <td>BBC\\n</td>\n",
       "      <td>Sajid Javid: I get abuse because of my colour</td>\n",
       "      <td>Home secretary tells BBC he is criticised for ...</td>\n",
       "      <td>Fri, 10 May 2019 15:45:21 GMT</td>\n",
       "      <td>default</td>\n",
       "    </tr>\n",
       "    <tr>\n",
       "      <th>4</th>\n",
       "      <td>5</td>\n",
       "      <td>BBC\\n</td>\n",
       "      <td>Stormont stalemate: Coveney hopes for progress...</td>\n",
       "      <td>Simon Coveney says two governments will do som...</td>\n",
       "      <td>Fri, 10 May 2019 10:48:30 GMT</td>\n",
       "      <td>default</td>\n",
       "    </tr>\n",
       "  </tbody>\n",
       "</table>\n",
       "</div>"
      ],
      "text/plain": [
       "   id source                                              title  \\\n",
       "0   1  BBC\\n      Labour pledges £10 minimum wage for under-18s   \n",
       "1   2  BBC\\n  Brexit: Gavin Williamson attacks Theresa May's...   \n",
       "2   3  BBC\\n  Theresa May could set exit date this week - Si...   \n",
       "3   4  BBC\\n      Sajid Javid: I get abuse because of my colour   \n",
       "4   5  BBC\\n  Stormont stalemate: Coveney hopes for progress...   \n",
       "\n",
       "                                             summary  \\\n",
       "0  Jeremy Corbyn unveils plans for under-18s to b...   \n",
       "1  The recently sacked defence secretary says neg...   \n",
       "2  Senior Tory Sir Graham Brady says he expects t...   \n",
       "3  Home secretary tells BBC he is criticised for ...   \n",
       "4  Simon Coveney says two governments will do som...   \n",
       "\n",
       "                publication_date   author  \n",
       "0  Sat, 11 May 2019 14:27:26 GMT  default  \n",
       "1  Sat, 11 May 2019 23:04:45 GMT  default  \n",
       "2  Sat, 11 May 2019 15:06:51 GMT  default  \n",
       "3  Fri, 10 May 2019 15:45:21 GMT  default  \n",
       "4  Fri, 10 May 2019 10:48:30 GMT  default  "
      ]
     },
     "execution_count": 34,
     "metadata": {},
     "output_type": "execute_result"
    }
   ],
   "source": [
    "feeds[:5]"
   ]
  },
  {
   "cell_type": "markdown",
   "metadata": {},
   "source": [
    "# Basic RAKE usage example\n"
   ]
  },
  {
   "cell_type": "code",
   "execution_count": 35,
   "metadata": {},
   "outputs": [
    {
     "data": {
      "text/plain": [
       "'Jeremy Corbyn unveils plans for under-18s to be paid £10 an hour, rather than the current £4.35.'"
      ]
     },
     "execution_count": 35,
     "metadata": {},
     "output_type": "execute_result"
    }
   ],
   "source": [
    "r = Rake() # Uses stopwords for english from NLTK, and all puntuation characters.\n",
    "text = feeds[\"summary\"].iloc[0]\n",
    "text"
   ]
  },
  {
   "cell_type": "code",
   "execution_count": 36,
   "metadata": {},
   "outputs": [
    {
     "data": {
      "text/plain": [
       "['jeremy corbyn unveils plans',\n",
       " 'paid £ 10',\n",
       " 'current £ 4',\n",
       " 'rather',\n",
       " 'hour',\n",
       " '35',\n",
       " '18s']"
      ]
     },
     "execution_count": 36,
     "metadata": {},
     "output_type": "execute_result"
    }
   ],
   "source": [
    "r.extract_keywords_from_text(text)\n",
    "\n",
    "r.get_ranked_phrases()"
   ]
  },
  {
   "cell_type": "markdown",
   "metadata": {},
   "source": [
    "# Advanced RAKE usage example"
   ]
  },
  {
   "cell_type": "code",
   "execution_count": 51,
   "metadata": {},
   "outputs": [],
   "source": [
    "r2 = Rake(language='english')"
   ]
  },
  {
   "cell_type": "code",
   "execution_count": 57,
   "metadata": {},
   "outputs": [
    {
     "data": {
      "text/plain": [
       "[(16.0, 'jeremy corbyn unveils plans'),\n",
       " (9.0, 'paid £ 10'),\n",
       " (9.0, 'current £ 4'),\n",
       " (1.0, 'rather'),\n",
       " (1.0, 'hour'),\n",
       " (1.0, '35'),\n",
       " (1.0, '18s')]"
      ]
     },
     "execution_count": 57,
     "metadata": {},
     "output_type": "execute_result"
    }
   ],
   "source": [
    "r2 = Rake()\n",
    "#r2 = Rake(ranking_metric=Metric.WORD_DEGREE)\n",
    "#r2 = Rake(ranking_metric=Metric.WORD_FREQUENCY)\n",
    "r2.extract_keywords_from_text(text)\n",
    "r2.get_ranked_phrases_with_scores()"
   ]
  },
  {
   "cell_type": "code",
   "execution_count": 65,
   "metadata": {},
   "outputs": [
    {
     "data": {
      "text/plain": [
       "[(48.0, '18s to be paid £ 10 an'),\n",
       " (36.0, 'jeremy corbyn unveils plans for under'),\n",
       " (26.0, 'than the current £ 4'),\n",
       " (1.0, '35'),\n",
       " (1.0, ',')]"
      ]
     },
     "execution_count": 65,
     "metadata": {},
     "output_type": "execute_result"
    }
   ],
   "source": [
    "r = Rake(stopwords=['rather','hour'],punctuations=['-','.'],language='english')\n",
    "r.extract_keywords_from_text(text)\n",
    "r.get_ranked_phrases_with_scores()"
   ]
  },
  {
   "cell_type": "code",
   "execution_count": 66,
   "metadata": {},
   "outputs": [
    {
     "data": {
      "text/plain": [
       "Counter({'18s': 1,\n",
       "         'to': 1,\n",
       "         'be': 1,\n",
       "         'paid': 1,\n",
       "         '£': 2,\n",
       "         '10': 1,\n",
       "         'an': 1,\n",
       "         ',': 1,\n",
       "         'than': 1,\n",
       "         'the': 1,\n",
       "         'current': 1,\n",
       "         '4': 1,\n",
       "         'jeremy': 1,\n",
       "         'corbyn': 1,\n",
       "         'unveils': 1,\n",
       "         'plans': 1,\n",
       "         'for': 1,\n",
       "         'under': 1,\n",
       "         '35': 1})"
      ]
     },
     "execution_count": 66,
     "metadata": {},
     "output_type": "execute_result"
    }
   ],
   "source": [
    "r.get_word_frequency_distribution()"
   ]
  },
  {
   "cell_type": "code",
   "execution_count": 67,
   "metadata": {},
   "outputs": [
    {
     "data": {
      "text/plain": [
       "defaultdict(<function rake_nltk.rake.Rake._build_word_co_occurance_graph.<locals>.<lambda>()>,\n",
       "            {'18s': 7,\n",
       "             'to': 7,\n",
       "             'be': 7,\n",
       "             'paid': 7,\n",
       "             '£': 12,\n",
       "             '10': 7,\n",
       "             'an': 7,\n",
       "             ',': 1,\n",
       "             'than': 5,\n",
       "             'the': 5,\n",
       "             'current': 5,\n",
       "             '4': 5,\n",
       "             'jeremy': 6,\n",
       "             'corbyn': 6,\n",
       "             'unveils': 6,\n",
       "             'plans': 6,\n",
       "             'for': 6,\n",
       "             'under': 6,\n",
       "             '35': 1})"
      ]
     },
     "execution_count": 67,
     "metadata": {},
     "output_type": "execute_result"
    }
   ],
   "source": [
    "r.get_word_degrees()"
   ]
  },
  {
   "cell_type": "code",
   "execution_count": null,
   "metadata": {},
   "outputs": [],
   "source": []
  }
 ],
 "metadata": {
  "kernelspec": {
   "display_name": "Python 3",
   "language": "python",
   "name": "python3"
  },
  "language_info": {
   "codemirror_mode": {
    "name": "ipython",
    "version": 3
   },
   "file_extension": ".py",
   "mimetype": "text/x-python",
   "name": "python",
   "nbconvert_exporter": "python",
   "pygments_lexer": "ipython3",
   "version": "3.6.6"
  }
 },
 "nbformat": 4,
 "nbformat_minor": 2
}
